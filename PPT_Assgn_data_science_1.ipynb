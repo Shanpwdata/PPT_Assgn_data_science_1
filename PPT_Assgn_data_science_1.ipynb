{
 "cells": [
  {
   "cell_type": "markdown",
   "id": "93ce1f5f-3d51-43b6-b315-ade3568df2b9",
   "metadata": {},
   "source": [
    "1. Write a Python program to reverse a string without using any built-in string reversal functions."
   ]
  },
  {
   "cell_type": "code",
   "execution_count": 1,
   "id": "3687e783-d87b-4d39-9b97-dbe137f4ea1e",
   "metadata": {},
   "outputs": [],
   "source": [
    "#Ans_1.\n",
    "def reverse_string(s):\n",
    "    string_rev = \" \"\n",
    "    for i in s:\n",
    "        string_rev = i + string_rev\n",
    "    return string_rev"
   ]
  },
  {
   "cell_type": "code",
   "execution_count": 2,
   "id": "95531d8c-1469-470e-941b-4b1206bf0a17",
   "metadata": {},
   "outputs": [
    {
     "data": {
      "text/plain": [
       "'atpuG matnahS '"
      ]
     },
     "execution_count": 2,
     "metadata": {},
     "output_type": "execute_result"
    }
   ],
   "source": [
    "reverse_string(\"Shantam Gupta\")"
   ]
  },
  {
   "cell_type": "markdown",
   "id": "470878ef-d220-43ea-8c14-83022739c69d",
   "metadata": {},
   "source": [
    "2. Implement a function to check if a given string is a palindrome."
   ]
  },
  {
   "cell_type": "code",
   "execution_count": 3,
   "id": "bf00ab3d-ecee-495d-836e-f42252a67940",
   "metadata": {},
   "outputs": [],
   "source": [
    "#Ans_2.\n",
    "def reverse_string(s):\n",
    "    string_rev = \"\"\n",
    "    for i in s:\n",
    "        string_rev = i + string_rev\n",
    "    if string_rev == s:\n",
    "        return \"string is palindrome\"\n",
    "    return \"string is not palindrome\"     "
   ]
  },
  {
   "cell_type": "code",
   "execution_count": 4,
   "id": "04f6e2f7-6333-4f84-985d-9f7ebc2e1ae7",
   "metadata": {},
   "outputs": [
    {
     "data": {
      "text/plain": [
       "'string is palindrome'"
      ]
     },
     "execution_count": 4,
     "metadata": {},
     "output_type": "execute_result"
    }
   ],
   "source": [
    "reverse_string(\"abba\")"
   ]
  },
  {
   "cell_type": "markdown",
   "id": "839befe2-464b-4026-8a09-619c1705cbe2",
   "metadata": {},
   "source": [
    "3. Write a program to find the largest element in a given list."
   ]
  },
  {
   "cell_type": "code",
   "execution_count": 5,
   "id": "8c21de79-5437-4e56-85e5-f514ccd98dde",
   "metadata": {},
   "outputs": [],
   "source": [
    "#Ans_3.\n",
    "def largest_element(lst):\n",
    "    if not lst:\n",
    "        return False\n",
    "    largest = lst[0]\n",
    "    for i in lst :\n",
    "        if i > largest:\n",
    "            largest = i\n",
    "    return largest"
   ]
  },
  {
   "cell_type": "code",
   "execution_count": 6,
   "id": "d90421e8-eb77-46d5-930e-b2002617ea04",
   "metadata": {},
   "outputs": [
    {
     "data": {
      "text/plain": [
       "9"
      ]
     },
     "execution_count": 6,
     "metadata": {},
     "output_type": "execute_result"
    }
   ],
   "source": [
    "largest_element([2,5,4,8,1,6,9])"
   ]
  },
  {
   "cell_type": "markdown",
   "id": "838d4731-67ca-405e-bdaf-40a1b7d1cf5d",
   "metadata": {},
   "source": [
    "4. Implement a function to count the occurrence of each element in a list"
   ]
  },
  {
   "cell_type": "code",
   "execution_count": 7,
   "id": "c1a70160-604b-4449-a902-bae862f2f300",
   "metadata": {},
   "outputs": [],
   "source": [
    "#Ans_4.\n",
    "def count_elements(lst):\n",
    "    counts = {}\n",
    "    for item in lst:\n",
    "        if item in counts:\n",
    "            counts[item] += 1\n",
    "        else:\n",
    "            counts[item] = 1\n",
    "    return counts"
   ]
  },
  {
   "cell_type": "code",
   "execution_count": 8,
   "id": "449ddf82-0be4-4e72-a93b-9bca028b8bb3",
   "metadata": {},
   "outputs": [
    {
     "data": {
      "text/plain": [
       "{1: 2, 2: 3, 3: 2, 4: 4}"
      ]
     },
     "execution_count": 8,
     "metadata": {},
     "output_type": "execute_result"
    }
   ],
   "source": [
    "count_elements([1, 2, 3, 2, 4, 1, 2, 3, 4, 4, 4])"
   ]
  },
  {
   "cell_type": "markdown",
   "id": "e7ed1c35-75d7-452c-9d3e-1e2040a6bc0e",
   "metadata": {},
   "source": [
    "5. Write a Python program to find the second largest number in a list."
   ]
  },
  {
   "cell_type": "code",
   "execution_count": 9,
   "id": "4abcfd46-ed52-41e1-8414-5e9a0ecc9117",
   "metadata": {},
   "outputs": [],
   "source": [
    "#Ans_5.\n",
    "def largest_element(lst):\n",
    "    lst.sort()\n",
    "    if not lst:\n",
    "        return False\n",
    "    largest = lst[0]\n",
    "    second_largest = lst[-2]\n",
    "    for i in lst :\n",
    "        if i > largest:\n",
    "            largest = i\n",
    "        elif second_largest <= largest:\n",
    "            second_largest = i\n",
    "    return second_largest"
   ]
  },
  {
   "cell_type": "code",
   "execution_count": 10,
   "id": "042d572f-5056-4d11-abe9-ff36c2521cff",
   "metadata": {},
   "outputs": [
    {
     "data": {
      "text/plain": [
       "10"
      ]
     },
     "execution_count": 10,
     "metadata": {},
     "output_type": "execute_result"
    }
   ],
   "source": [
    "largest_element([5, 10, 2, 11, 7])"
   ]
  },
  {
   "cell_type": "markdown",
   "id": "0c406b66-47b8-4b6c-a287-044448935246",
   "metadata": {},
   "source": [
    "6. Implement a function to remove duplicate elements from a list."
   ]
  },
  {
   "cell_type": "code",
   "execution_count": 11,
   "id": "dde03cbf-7715-4b06-9de2-061f6ff0337a",
   "metadata": {},
   "outputs": [],
   "source": [
    "#Ans_6.\n",
    "def remove_duplicates(lst):\n",
    "    lst.sort()\n",
    "    new_lst = []\n",
    "    for i in lst:\n",
    "        if i not in new_lst:\n",
    "            new_lst.append(i)\n",
    "    return new_lst"
   ]
  },
  {
   "cell_type": "code",
   "execution_count": 12,
   "id": "1a098893-c0b0-4a71-bc3e-11bf221e2b0e",
   "metadata": {},
   "outputs": [
    {
     "data": {
      "text/plain": [
       "[1, 2, 3, 4]"
      ]
     },
     "execution_count": 12,
     "metadata": {},
     "output_type": "execute_result"
    }
   ],
   "source": [
    "remove_duplicates([1, 2, 3, 2, 4, 1, 2, 3, 4, 4, 4])"
   ]
  },
  {
   "cell_type": "markdown",
   "id": "1d693ed2-f4ba-417a-ade5-48e2896ed90d",
   "metadata": {},
   "source": [
    "7. Write a program to calculate the factorial of a given number."
   ]
  },
  {
   "cell_type": "code",
   "execution_count": 13,
   "id": "df6beae7-8410-4061-aef7-92b040a1cac6",
   "metadata": {},
   "outputs": [],
   "source": [
    "#ans_7.\n",
    "def factorial(n):\n",
    "       \n",
    "    if n == 0 or n == 1:\n",
    "        return 1\n",
    "      \n",
    "    return n * factorial(n-1)"
   ]
  },
  {
   "cell_type": "code",
   "execution_count": 14,
   "id": "57cf1975-3488-4ac8-96da-13029a92535f",
   "metadata": {},
   "outputs": [
    {
     "data": {
      "text/plain": [
       "24"
      ]
     },
     "execution_count": 14,
     "metadata": {},
     "output_type": "execute_result"
    }
   ],
   "source": [
    "factorial(4)"
   ]
  },
  {
   "cell_type": "markdown",
   "id": "b5c0c1a2-b0b7-4891-be3d-ed8265ee2849",
   "metadata": {},
   "source": [
    "8. Implement a function to check if a given number is prime"
   ]
  },
  {
   "cell_type": "code",
   "execution_count": 15,
   "id": "b0f16056-9640-4f05-954f-b9e2bc79b26f",
   "metadata": {},
   "outputs": [],
   "source": [
    "#Ans_8.\n",
    "def is_prime(num):\n",
    "    if num % 2 ==0:\n",
    "        return \"not prime\"\n",
    "    return \"prime\""
   ]
  },
  {
   "cell_type": "code",
   "execution_count": 16,
   "id": "9e950148-9d88-42e3-af92-5624849d8c9b",
   "metadata": {},
   "outputs": [
    {
     "data": {
      "text/plain": [
       "'prime'"
      ]
     },
     "execution_count": 16,
     "metadata": {},
     "output_type": "execute_result"
    }
   ],
   "source": [
    "is_prime(89)"
   ]
  },
  {
   "cell_type": "markdown",
   "id": "a88797ad-9f22-4302-ae19-9f14bde1971f",
   "metadata": {},
   "source": [
    "9. Write a Python program to sort a list of integers in ascending order."
   ]
  },
  {
   "cell_type": "code",
   "execution_count": 17,
   "id": "82d6d6f7-32da-4b8e-b68f-b1f1200b5cfe",
   "metadata": {},
   "outputs": [],
   "source": [
    "#Ans_9.\n",
    "def sort_lst(lst):\n",
    "    n = len(lst)\n",
    "    for i in range(n):\n",
    "        for j in range(i+1, n):\n",
    "            if lst[i] >= lst[j]:\n",
    "                lst[i],lst[j] = lst[j], lst[i]\n",
    "    return lst"
   ]
  },
  {
   "cell_type": "code",
   "execution_count": 18,
   "id": "d95a1525-64d1-4647-b5cd-9de36bf09b00",
   "metadata": {},
   "outputs": [
    {
     "data": {
      "text/plain": [
       "[1, 1, 4, 5, 5, 7, 7, 8, 8, 9, 56, 89]"
      ]
     },
     "execution_count": 18,
     "metadata": {},
     "output_type": "execute_result"
    }
   ],
   "source": [
    "sort_lst([9,5,4,7,89,56,1,8,5,1,7,8])"
   ]
  },
  {
   "cell_type": "markdown",
   "id": "fda416c4-941f-428b-8fa7-d560c2b0db98",
   "metadata": {},
   "source": [
    "10. Implement a function to find the sum of all numbers in a list"
   ]
  },
  {
   "cell_type": "code",
   "execution_count": 19,
   "id": "a96840cf-013f-41c9-ae6a-5a8e41b39366",
   "metadata": {},
   "outputs": [],
   "source": [
    "#Ans_10.\n",
    "def sum_of_list(lst):\n",
    "    total = 0\n",
    "    for num in lst:\n",
    "        total += num\n",
    "    return total"
   ]
  },
  {
   "cell_type": "code",
   "execution_count": 20,
   "id": "28f3e391-24c5-44d4-9215-340dd219fb5f",
   "metadata": {},
   "outputs": [
    {
     "data": {
      "text/plain": [
       "21"
      ]
     },
     "execution_count": 20,
     "metadata": {},
     "output_type": "execute_result"
    }
   ],
   "source": [
    "sum_of_list([1,2,3,4,5,6])"
   ]
  },
  {
   "cell_type": "markdown",
   "id": "c90fb787-c1a6-40c2-825e-f6c3c367a0ff",
   "metadata": {},
   "source": [
    "11. Write a program to find the common elements between two lists"
   ]
  },
  {
   "cell_type": "code",
   "execution_count": 21,
   "id": "4a46b7d4-ea6c-4d2f-9f27-cde3c821fc27",
   "metadata": {},
   "outputs": [],
   "source": [
    "#Ans_11.\n",
    "def common_elements(list1, list2):\n",
    "    co_list = []\n",
    "    for i in list1:\n",
    "        if i in list2 :\n",
    "            co_list.append(i)\n",
    "    return set(co_list)"
   ]
  },
  {
   "cell_type": "code",
   "execution_count": 22,
   "id": "914674be-5bc8-48a5-8b10-f161e6c7363a",
   "metadata": {},
   "outputs": [
    {
     "data": {
      "text/plain": [
       "{1, 2, 4, 5}"
      ]
     },
     "execution_count": 22,
     "metadata": {},
     "output_type": "execute_result"
    }
   ],
   "source": [
    "common_elements([1,2,4,5,1,4],[1,2,4,5,7,4])"
   ]
  },
  {
   "cell_type": "markdown",
   "id": "b617b9c9-5002-4e21-ab9d-1a758832d96b",
   "metadata": {},
   "source": [
    "12. Implement a function to check if a given string is an anagram of another string."
   ]
  },
  {
   "cell_type": "code",
   "execution_count": 23,
   "id": "7390e1cd-b329-4503-8bb7-698bbccc8513",
   "metadata": {},
   "outputs": [],
   "source": [
    "#Ans_12.\n",
    "def is_anagram(str1, str2):\n",
    "    if len(str1) != len(str2):\n",
    "        return False\n",
    "    str1 = str1.lower()\n",
    "    str2 = str2.lower()\n",
    "    char_freq1 = {}\n",
    "    char_freq2 = {}\n",
    "    for char in str1:\n",
    "        char_freq1[char] = char_freq1.get(char, 0) + 1\n",
    "    for char in str2:\n",
    "        char_freq2[char] = char_freq2.get(char, 0) + 1\n",
    "    if char_freq1 == char_freq2:\n",
    "        return \"string is anagram\"\n",
    "    return \"string is not anagram\""
   ]
  },
  {
   "cell_type": "code",
   "execution_count": 24,
   "id": "725b3e5c-1703-4350-9451-043ced9e443c",
   "metadata": {},
   "outputs": [
    {
     "data": {
      "text/plain": [
       "'string is anagram'"
      ]
     },
     "execution_count": 24,
     "metadata": {},
     "output_type": "execute_result"
    }
   ],
   "source": [
    "is_anagram(\"listen\", \"silent\")"
   ]
  },
  {
   "cell_type": "markdown",
   "id": "4ab07fc0-7708-456b-b3fc-f1c30422013a",
   "metadata": {},
   "source": [
    "13. Write a Python program to generate all permutations of a given string"
   ]
  },
  {
   "cell_type": "code",
   "execution_count": 25,
   "id": "e6164319-3b78-4e2f-bb04-11103b60be56",
   "metadata": {},
   "outputs": [],
   "source": [
    "#Ans_13.\n",
    "def permutations(s):\n",
    "    if len(s) == 0 :\n",
    "        return []\n",
    "    if len(s) == 1 :\n",
    "        return [s]\n",
    "    perms = []  \n",
    "    for i in range(len(s)):\n",
    "        char = s[i]\n",
    "        remain_chars = s[:i] + s[i+1:]\n",
    "        remain_perms = permutations(remain_chars)\n",
    "        for perm in remain_perms:\n",
    "            perms.append(char + perm)\n",
    "    return perms"
   ]
  },
  {
   "cell_type": "code",
   "execution_count": 26,
   "id": "fcff0554-0606-49f4-b184-f436eabf38ec",
   "metadata": {},
   "outputs": [
    {
     "data": {
      "text/plain": [
       "['abc', 'acb', 'bac', 'bca', 'cab', 'cba']"
      ]
     },
     "execution_count": 26,
     "metadata": {},
     "output_type": "execute_result"
    }
   ],
   "source": [
    "permutations(\"abc\")"
   ]
  },
  {
   "cell_type": "markdown",
   "id": "c0b28b89-cb1f-4aef-9d79-3d86d887f858",
   "metadata": {},
   "source": [
    "14. Implement a function to calculate the Fibonacci sequence up to a given number of terms."
   ]
  },
  {
   "cell_type": "code",
   "execution_count": 27,
   "id": "2d2c51d1-423e-4f1c-8e0c-6c4763e7d5d9",
   "metadata": {},
   "outputs": [],
   "source": [
    "#Ans_14.\n",
    "def fibonacci_sequence(n):\n",
    "    sequence = [0, 1]\n",
    "\n",
    "    if n <= 2:\n",
    "        return sequence[:n]\n",
    "\n",
    "    while len(sequence) < n:\n",
    "        next_term = sequence[-1] + sequence[-2]\n",
    "        sequence.append(next_term)\n",
    "\n",
    "    return sequence "
   ]
  },
  {
   "cell_type": "code",
   "execution_count": 28,
   "id": "22571016-58c7-41c4-8c03-47bd4cf34c65",
   "metadata": {},
   "outputs": [
    {
     "data": {
      "text/plain": [
       "[0, 1, 1, 2, 3, 5, 8, 13, 21, 34]"
      ]
     },
     "execution_count": 28,
     "metadata": {},
     "output_type": "execute_result"
    }
   ],
   "source": [
    "fibonacci_sequence(10)"
   ]
  },
  {
   "cell_type": "markdown",
   "id": "93dad961-3e45-4acc-9a8d-216f40551323",
   "metadata": {},
   "source": [
    "15. Write a program to find the median of a list of numbers."
   ]
  },
  {
   "cell_type": "code",
   "execution_count": 29,
   "id": "10faedf3-6597-460d-aa5a-83c8578a8528",
   "metadata": {},
   "outputs": [],
   "source": [
    "#Ans_15.\n",
    "def find_median(numbers):\n",
    "    numbers.sort()\n",
    "\n",
    "    length = len(numbers)\n",
    "    mid_index = length // 2 \n",
    "\n",
    "    if length % 2 == 0:\n",
    "        median = (numbers[mid_index - 1] + numbers[mid_index]) // 2\n",
    "    else:\n",
    "        median = numbers[mid_index]\n",
    "\n",
    "    return median"
   ]
  },
  {
   "cell_type": "code",
   "execution_count": 30,
   "id": "820ddf23-883b-4366-bed0-38813317a964",
   "metadata": {},
   "outputs": [
    {
     "data": {
      "text/plain": [
       "5"
      ]
     },
     "execution_count": 30,
     "metadata": {},
     "output_type": "execute_result"
    }
   ],
   "source": [
    "find_median([5, 2, 9, 1, 7, 6])"
   ]
  },
  {
   "cell_type": "markdown",
   "id": "bc8a3ec0-5b6c-43d3-b739-83ce71b27037",
   "metadata": {},
   "source": [
    "16. Implement a function to check if a given list is sorted in non-decreasing order."
   ]
  },
  {
   "cell_type": "code",
   "execution_count": 31,
   "id": "ff90567a-f7ff-459e-9dae-c90e817c3b41",
   "metadata": {},
   "outputs": [],
   "source": [
    "#Ans_16.\n",
    "def is_sorted(numbers):\n",
    "    for i in range(len(numbers) - 1):\n",
    "        if numbers[i] > numbers[i + 1]:\n",
    "            return False\n",
    "    return True"
   ]
  },
  {
   "cell_type": "code",
   "execution_count": 32,
   "id": "279c3123-2a53-41aa-8e07-76da598088d6",
   "metadata": {},
   "outputs": [
    {
     "data": {
      "text/plain": [
       "False"
      ]
     },
     "execution_count": 32,
     "metadata": {},
     "output_type": "execute_result"
    }
   ],
   "source": [
    "is_sorted([5, 4, 3, 2, 1])"
   ]
  },
  {
   "cell_type": "code",
   "execution_count": 33,
   "id": "77cfb7f2-7428-4a51-b33c-f79f97008bf2",
   "metadata": {},
   "outputs": [
    {
     "data": {
      "text/plain": [
       "True"
      ]
     },
     "execution_count": 33,
     "metadata": {},
     "output_type": "execute_result"
    }
   ],
   "source": [
    "is_sorted([1,2,3,4,5])"
   ]
  },
  {
   "cell_type": "markdown",
   "id": "50ffde81-5b4c-424f-ac34-bed461cc2f49",
   "metadata": {},
   "source": [
    "17. Write a Python program to find the intersection of two lists."
   ]
  },
  {
   "cell_type": "code",
   "execution_count": 34,
   "id": "90e7b908-db18-4c56-8c11-76b361be7614",
   "metadata": {},
   "outputs": [],
   "source": [
    "#Ans_17.\n",
    "def find_intersection(list1, list2):\n",
    "    set1 = set(list1)\n",
    "    set2 = set(list2)\n",
    "\n",
    "    intersection = set1.intersection(set2)\n",
    "\n",
    "    return list(intersection)"
   ]
  },
  {
   "cell_type": "code",
   "execution_count": 35,
   "id": "e4b55ff1-f50d-4357-8694-7969272da16d",
   "metadata": {},
   "outputs": [
    {
     "data": {
      "text/plain": [
       "[4, 5]"
      ]
     },
     "execution_count": 35,
     "metadata": {},
     "output_type": "execute_result"
    }
   ],
   "source": [
    "find_intersection([1, 2, 3, 4, 5],[4, 5, 6, 7, 8])"
   ]
  },
  {
   "cell_type": "markdown",
   "id": "e500ff28-a73b-4c9d-a640-c554b745f25b",
   "metadata": {},
   "source": [
    "18. Implement a function to find the maximum subarray sum in a given list."
   ]
  },
  {
   "cell_type": "code",
   "execution_count": 36,
   "id": "a512c8cd-9984-4ebc-8bb0-a0828203fbe5",
   "metadata": {},
   "outputs": [],
   "source": [
    "#Ans_18.\n",
    "def find_max_subarray_sum(nums):\n",
    "    max_sum = float('-inf')\n",
    "    current_sum = 0\n",
    "\n",
    "    for num in nums:\n",
    "        current_sum = max(num, current_sum + num)\n",
    "        max_sum = max(max_sum, current_sum)\n",
    "\n",
    "    return max_sum"
   ]
  },
  {
   "cell_type": "code",
   "execution_count": 37,
   "id": "9bc4de3b-b947-40c5-9124-072d868260b7",
   "metadata": {},
   "outputs": [
    {
     "data": {
      "text/plain": [
       "6"
      ]
     },
     "execution_count": 37,
     "metadata": {},
     "output_type": "execute_result"
    }
   ],
   "source": [
    "find_max_subarray_sum([-2, 1, -3, 4, -1, 2, 1, -5, 4])"
   ]
  },
  {
   "cell_type": "markdown",
   "id": "66afd59b-df3e-452e-a18a-b3134253d3c4",
   "metadata": {},
   "source": [
    "19. Write a program to remove all vowels from a given string."
   ]
  },
  {
   "cell_type": "code",
   "execution_count": 38,
   "id": "25bfcd22-2a0e-472d-8e93-c7482f2abb33",
   "metadata": {},
   "outputs": [],
   "source": [
    "#Ans_19.\n",
    "def remove_vowels(string):\n",
    "    vowels = \"aeiouAEIOU\"\n",
    "    result = \"\"\n",
    "\n",
    "    for char in string:\n",
    "        if char not in vowels:\n",
    "            result += char\n",
    "\n",
    "    return result"
   ]
  },
  {
   "cell_type": "code",
   "execution_count": 39,
   "id": "f06602be-58cb-44cf-90ca-ddb24a4d8193",
   "metadata": {},
   "outputs": [
    {
     "data": {
      "text/plain": [
       "'Hll, Wrld!'"
      ]
     },
     "execution_count": 39,
     "metadata": {},
     "output_type": "execute_result"
    }
   ],
   "source": [
    "remove_vowels(\"Hello, World!\")"
   ]
  },
  {
   "cell_type": "markdown",
   "id": "54225f02-5def-4db0-8638-2bd9a42443af",
   "metadata": {},
   "source": [
    "20. Implement a function to reverse the order of words in a given sentence."
   ]
  },
  {
   "cell_type": "code",
   "execution_count": 40,
   "id": "fd4afa6c-2e1d-47e6-bf9c-02ad1c2f9037",
   "metadata": {},
   "outputs": [],
   "source": [
    "#Ans_20.\n",
    "def reverse_sentence(s):\n",
    "    words = s.split()  \n",
    "    rev_words = words[::-1] \n",
    "    rev_s = \" \".join(rev_words)\n",
    "    return rev_s"
   ]
  },
  {
   "cell_type": "code",
   "execution_count": 41,
   "id": "35d90579-c662-4202-b045-7565dd028207",
   "metadata": {},
   "outputs": [
    {
     "data": {
      "text/plain": [
       "'PWskills in students are We'"
      ]
     },
     "execution_count": 41,
     "metadata": {},
     "output_type": "execute_result"
    }
   ],
   "source": [
    "reverse_sentence(\"We are students in PWskills\")"
   ]
  },
  {
   "cell_type": "markdown",
   "id": "a042c2f0-7f06-419d-a2fa-c3bc45f3b827",
   "metadata": {},
   "source": [
    "21. Write a Python program to check if two strings are anagrams of each other"
   ]
  },
  {
   "cell_type": "code",
   "execution_count": 42,
   "id": "4bd23dce-b58e-4518-bdfc-fbce25ce4f04",
   "metadata": {},
   "outputs": [],
   "source": [
    "#Ans_21.\n",
    "def is_anagram(str1, str2):\n",
    "    if len(str1) != len(str2):\n",
    "        return False\n",
    "    str1 = str1.lower()\n",
    "    str2 = str2.lower()\n",
    "    char_freq1 = {}\n",
    "    char_freq2 = {}\n",
    "    for char in str1:\n",
    "        char_freq1[char] = char_freq1.get(char, 0) + 1\n",
    "    for char in str2:\n",
    "        char_freq2[char] = char_freq2.get(char, 0) + 1\n",
    "    if char_freq1 == char_freq2:\n",
    "        return \"string1 is anagram of string2\"\n",
    "    return \"string1 is not anagram of string2\""
   ]
  },
  {
   "cell_type": "code",
   "execution_count": 43,
   "id": "1977dbb1-1324-458e-a8dc-5563d0008691",
   "metadata": {},
   "outputs": [
    {
     "data": {
      "text/plain": [
       "'string1 is anagram of string2'"
      ]
     },
     "execution_count": 43,
     "metadata": {},
     "output_type": "execute_result"
    }
   ],
   "source": [
    "is_anagram(\"listen\", \"silent\")"
   ]
  },
  {
   "cell_type": "markdown",
   "id": "555790f2-ccb4-4c54-a3e4-93fdccf16eb1",
   "metadata": {},
   "source": [
    "22. Implement a function to find the first non-repeating character in a string."
   ]
  },
  {
   "cell_type": "code",
   "execution_count": 44,
   "id": "c16606e1-9cc3-4ec0-9bcd-915048a21501",
   "metadata": {},
   "outputs": [],
   "source": [
    "#Ans_22.\n",
    "def first_non_repeating_char(s):\n",
    "    char_counts = {}\n",
    "    \n",
    "    for char in s:\n",
    "        if char in char_counts:\n",
    "            char_counts[char] += 1\n",
    "        else:\n",
    "            char_counts[char] = 1\n",
    "    \n",
    "    for char in s:\n",
    "        if char_counts[char] == 1:\n",
    "            return char\n",
    "    \n",
    "    return None"
   ]
  },
  {
   "cell_type": "code",
   "execution_count": 45,
   "id": "f69fd31c-d28b-41b5-bbcb-3703ee3505f9",
   "metadata": {},
   "outputs": [
    {
     "data": {
      "text/plain": [
       "'g'"
      ]
     },
     "execution_count": 45,
     "metadata": {},
     "output_type": "execute_result"
    }
   ],
   "source": [
    "first_non_repeating_char(\"aabdgsbdrjed\")"
   ]
  },
  {
   "cell_type": "markdown",
   "id": "1a891239-936b-47b3-90fe-60ac648f4097",
   "metadata": {},
   "source": [
    "23. Write a program to find the prime factors of a given number."
   ]
  },
  {
   "cell_type": "code",
   "execution_count": 46,
   "id": "e887b4db-fbec-4858-b30e-2fa4af0a720b",
   "metadata": {},
   "outputs": [],
   "source": [
    "#Ans_23.\n",
    "def find_prime_factors(num):\n",
    "    fact = []\n",
    "    div = 2\n",
    "\n",
    "    while div <= num:\n",
    "        if num % div == 0:\n",
    "            fact.append(div)\n",
    "            num //= div\n",
    "        else:\n",
    "            div += 1\n",
    "\n",
    "    return fact"
   ]
  },
  {
   "cell_type": "code",
   "execution_count": 47,
   "id": "3ec9a2ba-4e7a-47ab-ba82-48373f2df695",
   "metadata": {},
   "outputs": [
    {
     "data": {
      "text/plain": [
       "[3, 3, 5]"
      ]
     },
     "execution_count": 47,
     "metadata": {},
     "output_type": "execute_result"
    }
   ],
   "source": [
    "find_prime_factors(45)"
   ]
  },
  {
   "cell_type": "markdown",
   "id": "13bbf564-f5ae-4fdb-ad20-6ff107bbf84f",
   "metadata": {},
   "source": [
    "24. Implement a function to check if a given number is a power of two"
   ]
  },
  {
   "cell_type": "code",
   "execution_count": 48,
   "id": "2aa672a4-4238-4479-9e24-d744daaab0b6",
   "metadata": {},
   "outputs": [],
   "source": [
    "#Ans_24.\n",
    "def is_power_of_two(num):\n",
    "    if num <= 0:\n",
    "        return False\n",
    "    \n",
    "    return (num & (num - 1)) == 0"
   ]
  },
  {
   "cell_type": "code",
   "execution_count": 49,
   "id": "16f55bef-0483-457e-b49a-c7a6503e3bbe",
   "metadata": {},
   "outputs": [
    {
     "data": {
      "text/plain": [
       "True"
      ]
     },
     "execution_count": 49,
     "metadata": {},
     "output_type": "execute_result"
    }
   ],
   "source": [
    "is_power_of_two(16)"
   ]
  },
  {
   "cell_type": "markdown",
   "id": "03f86c18-cff5-41a5-830d-3771435e046c",
   "metadata": {},
   "source": [
    "25. Write a Python program to merge two sorted lists into a single sorted list."
   ]
  },
  {
   "cell_type": "code",
   "execution_count": 50,
   "id": "52eefb89-0883-4a7e-a2a0-692ac8bbaa6f",
   "metadata": {},
   "outputs": [],
   "source": [
    "#Ans_25.\n",
    "def merge_list(list1 , list2):\n",
    "    new_list = list1 + list2\n",
    "    new_list.sort()\n",
    "    return list(new_list)"
   ]
  },
  {
   "cell_type": "code",
   "execution_count": 51,
   "id": "61edb26a-18a1-4d32-a4e1-ee5a39ed1236",
   "metadata": {},
   "outputs": [
    {
     "data": {
      "text/plain": [
       "[1, 2, 3, 4, 5, 6, 7, 8]"
      ]
     },
     "execution_count": 51,
     "metadata": {},
     "output_type": "execute_result"
    }
   ],
   "source": [
    "merge_list([1,3,5,7],[2,4,6,8])"
   ]
  },
  {
   "cell_type": "markdown",
   "id": "ec29b3dd-a1b2-4241-807d-b885a5212404",
   "metadata": {},
   "source": [
    "26. Implement a function to find the mode of a list of numbers."
   ]
  },
  {
   "cell_type": "code",
   "execution_count": 52,
   "id": "ba5c141f-bd17-4c54-9b9f-d662f8177862",
   "metadata": {},
   "outputs": [],
   "source": [
    "#Ans_26.\n",
    "def find_mode(nums):\n",
    "    freq = {}\n",
    "    max_count = 0\n",
    "    modes = []\n",
    "\n",
    "    for i in nums:\n",
    "        if i in freq:\n",
    "            freq[i] += 1\n",
    "        else:\n",
    "            freq[i] = 1\n",
    "\n",
    "        if freq[i] > max_count:\n",
    "            max_count = freq[i]\n",
    "\n",
    "    for i, j in freq.items():\n",
    "        if j == max_count:\n",
    "            modes.append(i)\n",
    "\n",
    "    return modes"
   ]
  },
  {
   "cell_type": "code",
   "execution_count": 53,
   "id": "e8e2a496-31d0-4097-ad3a-84314a27f389",
   "metadata": {},
   "outputs": [
    {
     "data": {
      "text/plain": [
       "[4]"
      ]
     },
     "execution_count": 53,
     "metadata": {},
     "output_type": "execute_result"
    }
   ],
   "source": [
    "find_mode([1, 2, 2, 3, 4, 4, 4, 5, 5, 6])"
   ]
  },
  {
   "cell_type": "markdown",
   "id": "edefd021-ef08-4c25-8d60-391bd0dbd283",
   "metadata": {},
   "source": [
    "27. Write a program to find the greatest common divisor (GCD) of two numbers"
   ]
  },
  {
   "cell_type": "code",
   "execution_count": 54,
   "id": "aea08fc9-807b-4ca0-bf15-70302b059ca3",
   "metadata": {},
   "outputs": [],
   "source": [
    "#Ans_27.\n",
    "def find_GCD(a, b):\n",
    "    while b != 0:\n",
    "        a, b = b, a % b\n",
    "\n",
    "    return a"
   ]
  },
  {
   "cell_type": "code",
   "execution_count": 55,
   "id": "2daaaaae-8b7e-4b82-bae2-4d5a02ed3a7e",
   "metadata": {},
   "outputs": [
    {
     "data": {
      "text/plain": [
       "4"
      ]
     },
     "execution_count": 55,
     "metadata": {},
     "output_type": "execute_result"
    }
   ],
   "source": [
    "find_GCD(4,8)"
   ]
  },
  {
   "cell_type": "markdown",
   "id": "42ae32b0-fa26-40e1-92b6-26b44a63c5a2",
   "metadata": {},
   "source": [
    "28. Implement a function to calculate the square root of a given number."
   ]
  },
  {
   "cell_type": "code",
   "execution_count": 56,
   "id": "f3444c13-3356-425e-bc54-15965fa7d25c",
   "metadata": {},
   "outputs": [],
   "source": [
    "#Ans_28.\n",
    "def square_root(num):\n",
    "    if num < 0:\n",
    "        return \"nums is not valid for negative\"\n",
    "\n",
    "    nums1 = num ** 0.5\n",
    "    return nums1"
   ]
  },
  {
   "cell_type": "code",
   "execution_count": 57,
   "id": "58c432cd-00af-4716-ae3f-380782ca22e0",
   "metadata": {},
   "outputs": [
    {
     "data": {
      "text/plain": [
       "4.0"
      ]
     },
     "execution_count": 57,
     "metadata": {},
     "output_type": "execute_result"
    }
   ],
   "source": [
    "square_root(16)"
   ]
  },
  {
   "cell_type": "markdown",
   "id": "fd5dce5e-56cc-4c78-bde2-ab9c7f74bf93",
   "metadata": {},
   "source": [
    "29. Write a Python program to check if a given string is a valid palindrome ignoring\n",
    "non-alphanumeric characters."
   ]
  },
  {
   "cell_type": "code",
   "execution_count": 58,
   "id": "53d05ee1-d9ae-4e6d-a2f2-56408e7000c7",
   "metadata": {},
   "outputs": [],
   "source": [
    "#Ans_29.\n",
    "def isPalindrome(s):\n",
    "    left = 0\n",
    "    right = len(s)-1\n",
    "    while left < right:\n",
    "        while left < right and not s[left].isalnum():\n",
    "            left += 1\n",
    "        while left < right and not s[right].isalnum():\n",
    "            right -= 1\n",
    "        if s[left].lower() != s[right].lower():\n",
    "            return False\n",
    "        else:\n",
    "            left += 1\n",
    "            right -= 1\n",
    "    return True"
   ]
  },
  {
   "cell_type": "code",
   "execution_count": 59,
   "id": "affe8b15-339d-433c-8532-7e799dd46505",
   "metadata": {},
   "outputs": [
    {
     "data": {
      "text/plain": [
       "True"
      ]
     },
     "execution_count": 59,
     "metadata": {},
     "output_type": "execute_result"
    }
   ],
   "source": [
    "isPalindrome(\"@@$%&()abba&^%$$@\")"
   ]
  },
  {
   "cell_type": "markdown",
   "id": "d41bcd16-36fe-4c22-829a-c50cfde73ef6",
   "metadata": {},
   "source": [
    "30. Implement a function to find the minimum element in a rotated sorted list"
   ]
  },
  {
   "cell_type": "code",
   "execution_count": 60,
   "id": "a6b45553-c67c-4862-90c7-fbd76437e767",
   "metadata": {},
   "outputs": [],
   "source": [
    "#Ans_30.\n",
    "def min_element(nums):\n",
    "    left = 0\n",
    "    right = len(nums) - 1\n",
    "\n",
    "    while left < right:\n",
    "        mid = left + (right - left) // 2\n",
    "\n",
    "        if nums[mid] > nums[right]:\n",
    "            left = mid + 1\n",
    "        else:\n",
    "            right = mid\n",
    "\n",
    "    return nums[left]"
   ]
  },
  {
   "cell_type": "code",
   "execution_count": 61,
   "id": "008090b0-d67b-449c-9229-9867a8be47ed",
   "metadata": {},
   "outputs": [
    {
     "data": {
      "text/plain": [
       "1"
      ]
     },
     "execution_count": 61,
     "metadata": {},
     "output_type": "execute_result"
    }
   ],
   "source": [
    "min_element([4, 5, 6, 7, 1, 2])"
   ]
  },
  {
   "cell_type": "markdown",
   "id": "9dba4512-d6c9-419b-ab34-7fecdb061ac2",
   "metadata": {},
   "source": [
    "31. Write a program to find the sum of all even numbers in a list."
   ]
  },
  {
   "cell_type": "code",
   "execution_count": 62,
   "id": "ea01fc2e-8026-4f85-9af0-ac375b6f43dc",
   "metadata": {},
   "outputs": [],
   "source": [
    "#Ans_31.\n",
    "from functools import reduce\n",
    "def sum_even(list1):\n",
    "    even_list = filter(lambda x : x%2==0,list1)\n",
    "    sum_list = reduce(lambda x,y : x+y, list1)\n",
    "    return sum_list"
   ]
  },
  {
   "cell_type": "code",
   "execution_count": 63,
   "id": "a7622dab-f074-4251-8422-080c2cbbe691",
   "metadata": {},
   "outputs": [
    {
     "data": {
      "text/plain": [
       "25"
      ]
     },
     "execution_count": 63,
     "metadata": {},
     "output_type": "execute_result"
    }
   ],
   "source": [
    "sum_even([4, 5, 6, 7, 1, 2])"
   ]
  },
  {
   "cell_type": "markdown",
   "id": "f0542cf2-b501-4ba8-bdb5-92eec4d8f61e",
   "metadata": {},
   "source": [
    "32. Implement a function to calculate the power of a number using recursion."
   ]
  },
  {
   "cell_type": "code",
   "execution_count": 64,
   "id": "864ec3be-8bef-43e0-b6a1-ca6c75a6a3ec",
   "metadata": {},
   "outputs": [],
   "source": [
    "#Ans_32.\n",
    "def power(base, exponent):\n",
    "    if exponent == 0:\n",
    "        return 1\n",
    "    elif exponent < 0:\n",
    "        return 1 / power(base, -exponent)\n",
    "    else:\n",
    "        return base * power(base, exponent - 1)"
   ]
  },
  {
   "cell_type": "code",
   "execution_count": 65,
   "id": "a5c678b7-cd24-4b8a-9ce0-1054e8d34c0e",
   "metadata": {},
   "outputs": [
    {
     "data": {
      "text/plain": [
       "16"
      ]
     },
     "execution_count": 65,
     "metadata": {},
     "output_type": "execute_result"
    }
   ],
   "source": [
    "power(2,4)"
   ]
  },
  {
   "cell_type": "markdown",
   "id": "46156b61-481a-4df2-ad6c-5a2a9690766e",
   "metadata": {},
   "source": [
    "33. Write a Python program to remove duplicates from a list while preserving the order"
   ]
  },
  {
   "cell_type": "code",
   "execution_count": 66,
   "id": "e15b9ec6-1e6c-489b-8b9b-a46d511ac2e8",
   "metadata": {},
   "outputs": [],
   "source": [
    "#Ans_33.\n",
    "def remove_duplicates(list1):\n",
    "    seen = set()\n",
    "    result = []\n",
    "\n",
    "    for item in list1:\n",
    "        if item not in seen:\n",
    "            seen.add(item)\n",
    "            result.append(item)\n",
    "\n",
    "    return result"
   ]
  },
  {
   "cell_type": "code",
   "execution_count": 67,
   "id": "dae463d3-7859-4d8e-ba8b-b6d31f1ed460",
   "metadata": {},
   "outputs": [
    {
     "data": {
      "text/plain": [
       "[1, 2, 3, 4, 5, 6]"
      ]
     },
     "execution_count": 67,
     "metadata": {},
     "output_type": "execute_result"
    }
   ],
   "source": [
    "remove_duplicates([1, 2, 2, 3, 4, 4, 5, 6, 6])"
   ]
  },
  {
   "cell_type": "markdown",
   "id": "bd0ddee8-cc55-46d9-96fa-f721e606bc8f",
   "metadata": {},
   "source": [
    "34. Implement a function to find the longest common prefix among a list of strings."
   ]
  },
  {
   "cell_type": "code",
   "execution_count": 68,
   "id": "6d81ac34-aa37-4b22-8f8e-e1d3938888cf",
   "metadata": {},
   "outputs": [],
   "source": [
    "#Ans_34.\n",
    "def common_prefix(strings):\n",
    "    if not strings:\n",
    "        return \"\"\n",
    "\n",
    "    shortest_string = min(strings, key=len)\n",
    "    longest_common_prefix = \"\"\n",
    "\n",
    "    for i in range(len(shortest_string)):\n",
    "        prefix = shortest_string[:i+1]\n",
    "\n",
    "        for string in strings:\n",
    "            if not string.startswith(prefix):\n",
    "                return longest_common_prefix\n",
    "\n",
    "        longest_common_prefix = prefix\n",
    "\n",
    "    return longest_common_prefix"
   ]
  },
  {
   "cell_type": "code",
   "execution_count": 69,
   "id": "b38544fb-8554-4fc4-9609-d42005e266b7",
   "metadata": {},
   "outputs": [
    {
     "data": {
      "text/plain": [
       "'fl'"
      ]
     },
     "execution_count": 69,
     "metadata": {},
     "output_type": "execute_result"
    }
   ],
   "source": [
    "common_prefix([\"flower\", \"flow\", \"flight\"])"
   ]
  },
  {
   "cell_type": "markdown",
   "id": "b302c8c0-b36f-49da-9283-6dd9b6fb5009",
   "metadata": {},
   "source": [
    "35. Write a program to check if a given number is a perfect square."
   ]
  },
  {
   "cell_type": "code",
   "execution_count": 70,
   "id": "86417931-bc39-4bad-839a-c6b31c5c98d4",
   "metadata": {},
   "outputs": [],
   "source": [
    "#Ans_35.\n",
    "def is_perfect_square(number):\n",
    "    if number < 0:\n",
    "        return False\n",
    "\n",
    "    sqrt = int(number ** 0.5)\n",
    "    return sqrt * sqrt == number"
   ]
  },
  {
   "cell_type": "code",
   "execution_count": 71,
   "id": "a0f3bb07-4f2e-4319-b9b0-e22288a7e085",
   "metadata": {},
   "outputs": [
    {
     "data": {
      "text/plain": [
       "True"
      ]
     },
     "execution_count": 71,
     "metadata": {},
     "output_type": "execute_result"
    }
   ],
   "source": [
    "is_perfect_square(16)"
   ]
  },
  {
   "cell_type": "markdown",
   "id": "3d62f77e-5302-465b-a620-0837bf39f6c1",
   "metadata": {},
   "source": [
    "36. Implement a function to calculate the product of all elements in a list."
   ]
  },
  {
   "cell_type": "code",
   "execution_count": 72,
   "id": "e81bee12-35c6-4a01-a46d-312ce435d848",
   "metadata": {},
   "outputs": [],
   "source": [
    "#Ans_36.\n",
    "def calculate_product(numbers):\n",
    "    product = 1\n",
    "\n",
    "    for num in numbers:\n",
    "        product *= num\n",
    "\n",
    "    return product"
   ]
  },
  {
   "cell_type": "code",
   "execution_count": 73,
   "id": "147ca960-4f64-4328-a105-d5f9bce4dd6c",
   "metadata": {},
   "outputs": [
    {
     "data": {
      "text/plain": [
       "120"
      ]
     },
     "execution_count": 73,
     "metadata": {},
     "output_type": "execute_result"
    }
   ],
   "source": [
    "calculate_product([2, 3, 4, 5])"
   ]
  },
  {
   "cell_type": "markdown",
   "id": "2c499335-b540-4970-ab98-800da4c6376b",
   "metadata": {},
   "source": [
    "37. Write a Python program to reverse the order of words in a sentence while preserving the\n",
    "word order."
   ]
  },
  {
   "cell_type": "code",
   "execution_count": 74,
   "id": "7d6cffa0-7635-4a39-924f-255ceb06b087",
   "metadata": {},
   "outputs": [],
   "source": [
    "#Ans_37.\n",
    "def reverse_word(s):\n",
    "    words = s.split()  \n",
    "    rev_s = \" \".join(reversed(words))\n",
    "    return rev_s"
   ]
  },
  {
   "cell_type": "code",
   "execution_count": 75,
   "id": "2da1c0b1-ac36-4a44-a28a-782d467c32e9",
   "metadata": {},
   "outputs": [
    {
     "data": {
      "text/plain": [
       "'PWskills in students are We'"
      ]
     },
     "execution_count": 75,
     "metadata": {},
     "output_type": "execute_result"
    }
   ],
   "source": [
    "reverse_word(\"We are students in PWskills\")"
   ]
  },
  {
   "cell_type": "markdown",
   "id": "2ded681b-c4e5-4311-8e2f-090fda6d2e96",
   "metadata": {},
   "source": [
    "38. Implement a function to find the missing number in a given list of consecutive numbers."
   ]
  },
  {
   "cell_type": "code",
   "execution_count": 76,
   "id": "e0fa4bd3-a70a-4a6f-8d28-d2e0ec551871",
   "metadata": {},
   "outputs": [],
   "source": [
    "#Ans_38.\n",
    "def missing_number(num):\n",
    "    n = len(num) + 1\n",
    "    expected_sum = (n * (n + 1)) // 2\n",
    "    actual_sum = sum(num)\n",
    "    missing_number = expected_sum - actual_sum\n",
    "    \n",
    "    return missing_number"
   ]
  },
  {
   "cell_type": "code",
   "execution_count": 77,
   "id": "4a5e03a5-96c9-43ad-848a-9cfb19c8e787",
   "metadata": {},
   "outputs": [
    {
     "data": {
      "text/plain": [
       "4"
      ]
     },
     "execution_count": 77,
     "metadata": {},
     "output_type": "execute_result"
    }
   ],
   "source": [
    "missing_number([1,2,3,5,6])"
   ]
  },
  {
   "cell_type": "markdown",
   "id": "15ae21c2-67fb-437a-a514-6adda352ecd1",
   "metadata": {},
   "source": [
    "39. Write a program to find the sum of digits of a given number."
   ]
  },
  {
   "cell_type": "code",
   "execution_count": 78,
   "id": "66c7056f-87bf-4ee6-b7db-8856443628dd",
   "metadata": {},
   "outputs": [],
   "source": [
    "#Ans_39.\n",
    "def sum_of_digits(number):\n",
    "    sum = 0\n",
    "    while number != 0:\n",
    "        digit = number % 10\n",
    "        sum += digit\n",
    "        number = number // 10\n",
    "    return sum"
   ]
  },
  {
   "cell_type": "code",
   "execution_count": 79,
   "id": "9cd8f91e-09ec-4ae1-85d8-e89165d8934b",
   "metadata": {},
   "outputs": [
    {
     "data": {
      "text/plain": [
       "15"
      ]
     },
     "execution_count": 79,
     "metadata": {},
     "output_type": "execute_result"
    }
   ],
   "source": [
    "sum_of_digits(12345)"
   ]
  },
  {
   "cell_type": "markdown",
   "id": "6901fa08-a8c0-48b4-8473-e9e2a1794147",
   "metadata": {},
   "source": [
    "40. Implement a function to check if a given string is a valid palindrome considering case\n",
    "sensitivity."
   ]
  },
  {
   "cell_type": "code",
   "execution_count": 1,
   "id": "fd4b12d4-ae8c-4823-8412-67c692bf7de5",
   "metadata": {},
   "outputs": [],
   "source": [
    "#Ans_40.\n",
    "def valid_palindrome(string):\n",
    "    reversed_string = string[::-1]\n",
    "    return string == reversed_string"
   ]
  },
  {
   "cell_type": "code",
   "execution_count": 2,
   "id": "cd5349d9-6834-4ec8-ac3e-ca6fd0b11e8c",
   "metadata": {},
   "outputs": [
    {
     "data": {
      "text/plain": [
       "False"
      ]
     },
     "execution_count": 2,
     "metadata": {},
     "output_type": "execute_result"
    }
   ],
   "source": [
    "valid_palindrome(\"Ada\")"
   ]
  },
  {
   "cell_type": "markdown",
   "id": "b6a3b1bc-d47c-410f-b89b-40777dbfcdc7",
   "metadata": {},
   "source": [
    "41. Write a Python program to find the smallest missing positive integer in a list"
   ]
  },
  {
   "cell_type": "code",
   "execution_count": 3,
   "id": "a76acba6-db6f-4e68-8cb7-8163465fa9f1",
   "metadata": {},
   "outputs": [],
   "source": [
    "#Ans_41.\n",
    "def smallest_missing(nums):\n",
    "    n = len(nums)\n",
    "    i = 0\n",
    "    for j in range(n):\n",
    "        if nums[j] > 0:\n",
    "            nums[i], nums[j] = nums[j], nums[i]\n",
    "            i += 1\n",
    "    for j in range(i):\n",
    "        num = abs(nums[j])\n",
    "        if num <= i:\n",
    "            nums[num - 1] = -abs(nums[num - 1])\n",
    "    for j in range(i):\n",
    "        if nums[j] > 0:\n",
    "            return j + 1\n",
    "\n",
    "    return i + 1"
   ]
  },
  {
   "cell_type": "code",
   "execution_count": 4,
   "id": "4ee44742-f611-4cdc-aa49-3b4e3b98e1bf",
   "metadata": {},
   "outputs": [
    {
     "data": {
      "text/plain": [
       "3"
      ]
     },
     "execution_count": 4,
     "metadata": {},
     "output_type": "execute_result"
    }
   ],
   "source": [
    "smallest_missing([1,-1,2,4,5,-6])"
   ]
  },
  {
   "cell_type": "markdown",
   "id": "5348364a-d43d-4d68-ba29-7c8a9cf28003",
   "metadata": {},
   "source": [
    "42. Implement a function to find the longest palindrome substring in a given string."
   ]
  },
  {
   "cell_type": "code",
   "execution_count": 5,
   "id": "4d654dd8-2bcd-480d-8ee6-dc2c51b2d96b",
   "metadata": {},
   "outputs": [],
   "source": [
    "#Ans_42.\n",
    "def longest_palindrome_substring(string):\n",
    "    if not string:\n",
    "        return \"\"\n",
    "\n",
    "    n = len(string)\n",
    "    longest_substring = \"\"\n",
    "    longest_length = 0\n",
    "\n",
    "    def expand_around_center(left, right):\n",
    "        while left >= 0 and right < n and string[left] == string[right]:\n",
    "            left -= 1\n",
    "            right += 1\n",
    "        return string[left + 1:right]\n",
    "\n",
    "    for i in range(n):\n",
    "        odd_palindrome = expand_around_center(i, i)\n",
    "        if len(odd_palindrome) > longest_length:\n",
    "            longest_length = len(odd_palindrome)\n",
    "            longest_substring = odd_palindrome\n",
    "            \n",
    "        even_palindrome = expand_around_center(i, i + 1)\n",
    "        if len(even_palindrome) > longest_length:\n",
    "            longest_length = len(even_palindrome)\n",
    "            longest_substring = even_palindrome\n",
    "\n",
    "    return longest_substring"
   ]
  },
  {
   "cell_type": "code",
   "execution_count": 6,
   "id": "675ce204-8304-4710-937f-6afbd8cd3be4",
   "metadata": {},
   "outputs": [
    {
     "data": {
      "text/plain": [
       "'bab'"
      ]
     },
     "execution_count": 6,
     "metadata": {},
     "output_type": "execute_result"
    }
   ],
   "source": [
    "longest_palindrome_substring(\"babad\")"
   ]
  },
  {
   "cell_type": "markdown",
   "id": "9739b05f-04ad-4f57-8ea6-8e89894e7c19",
   "metadata": {},
   "source": [
    "43. Write a program to find the number of occurrences of a given element in a list."
   ]
  },
  {
   "cell_type": "code",
   "execution_count": 7,
   "id": "35ac7183-aea1-4402-aac1-903f01b55172",
   "metadata": {},
   "outputs": [],
   "source": [
    "#Ans_43.\n",
    "def count_occurrences(nums, target):\n",
    "    count = 0\n",
    "\n",
    "    for num in nums:\n",
    "        if num == target:\n",
    "            count += 1\n",
    "\n",
    "    return count"
   ]
  },
  {
   "cell_type": "code",
   "execution_count": 8,
   "id": "5cc1c287-deeb-4b39-ae9b-1e502e09354a",
   "metadata": {},
   "outputs": [
    {
     "data": {
      "text/plain": [
       "3"
      ]
     },
     "execution_count": 8,
     "metadata": {},
     "output_type": "execute_result"
    }
   ],
   "source": [
    "count_occurrences([1, 2, 3, 2, 4, 2, 5],2)"
   ]
  },
  {
   "cell_type": "markdown",
   "id": "e55676cf-78e2-485a-b03a-fd74be62084b",
   "metadata": {},
   "source": [
    "44. Implement a function to check if a given number is a perfect number."
   ]
  },
  {
   "cell_type": "code",
   "execution_count": 10,
   "id": "42099417-23f2-4d92-8a24-8401561c27cf",
   "metadata": {},
   "outputs": [],
   "source": [
    "#Ans_44.\n",
    "def perfect_number(number):\n",
    "    if number <= 0:\n",
    "        return False\n",
    "\n",
    "    div_sum = 0\n",
    "    for i in range(1, number):\n",
    "        if number % i == 0:\n",
    "            div_sum += i\n",
    "\n",
    "    return div_sum == number"
   ]
  },
  {
   "cell_type": "code",
   "execution_count": 11,
   "id": "d598d8fd-9fee-4dca-beca-269f48aa31eb",
   "metadata": {},
   "outputs": [
    {
     "data": {
      "text/plain": [
       "True"
      ]
     },
     "execution_count": 11,
     "metadata": {},
     "output_type": "execute_result"
    }
   ],
   "source": [
    "perfect_number(28)"
   ]
  },
  {
   "cell_type": "markdown",
   "id": "35f3252a-c77b-4943-8530-593f860bd005",
   "metadata": {},
   "source": [
    "45. Write a Python program to remove all duplicates from a string."
   ]
  },
  {
   "cell_type": "code",
   "execution_count": 12,
   "id": "c1700c02-f2a7-4c1e-be03-0ca8468f39b6",
   "metadata": {},
   "outputs": [],
   "source": [
    "#Ans_45.\n",
    "def remove_duplicates(string):\n",
    "    unique_chars = []\n",
    "    result = \"\"\n",
    "\n",
    "    for char in string:\n",
    "        if char not in unique_chars:\n",
    "            unique_chars.append(char)\n",
    "            result += char\n",
    "\n",
    "    return result"
   ]
  },
  {
   "cell_type": "code",
   "execution_count": 13,
   "id": "4ae31eed-75b3-4617-97a0-1436e98f105e",
   "metadata": {},
   "outputs": [
    {
     "data": {
      "text/plain": [
       "'Pwskil'"
      ]
     },
     "execution_count": 13,
     "metadata": {},
     "output_type": "execute_result"
    }
   ],
   "source": [
    "remove_duplicates(\"Pwskills\")"
   ]
  },
  {
   "cell_type": "markdown",
   "id": "ff490f6d-a5dd-4926-8600-aadcad64d493",
   "metadata": {},
   "source": [
    "46. Implement a function to find the first missing positive"
   ]
  },
  {
   "cell_type": "code",
   "execution_count": 16,
   "id": "36c783fa-0412-4b4a-9a9b-b6aae4308b1f",
   "metadata": {},
   "outputs": [],
   "source": [
    "#Ans_46.\n",
    "def first_missing_positive(nums):\n",
    "    n = len(nums)\n",
    "    i = 0\n",
    "    while i < n:\n",
    "        num = nums[i]\n",
    "        if 1 <= num <= n and num != nums[num - 1]:\n",
    "            nums[num - 1], nums[i] = nums[i], nums[num - 1]\n",
    "        else:\n",
    "            i += 1\n",
    "    for i in range(n):\n",
    "        if nums[i] != i + 1:\n",
    "            return i + 1\n",
    "\n",
    "    return n + 1"
   ]
  },
  {
   "cell_type": "code",
   "execution_count": 17,
   "id": "23d1ea1a-8fad-4828-9cbc-8145621659cb",
   "metadata": {},
   "outputs": [
    {
     "data": {
      "text/plain": [
       "2"
      ]
     },
     "execution_count": 17,
     "metadata": {},
     "output_type": "execute_result"
    }
   ],
   "source": [
    "first_missing_positive([3, 4, -1, 1])"
   ]
  },
  {
   "cell_type": "code",
   "execution_count": null,
   "id": "b448334f-26b2-4d3c-b932-64bff5b4a505",
   "metadata": {},
   "outputs": [],
   "source": []
  }
 ],
 "metadata": {
  "kernelspec": {
   "display_name": "Python 3 (ipykernel)",
   "language": "python",
   "name": "python3"
  },
  "language_info": {
   "codemirror_mode": {
    "name": "ipython",
    "version": 3
   },
   "file_extension": ".py",
   "mimetype": "text/x-python",
   "name": "python",
   "nbconvert_exporter": "python",
   "pygments_lexer": "ipython3",
   "version": "3.10.8"
  }
 },
 "nbformat": 4,
 "nbformat_minor": 5
}
